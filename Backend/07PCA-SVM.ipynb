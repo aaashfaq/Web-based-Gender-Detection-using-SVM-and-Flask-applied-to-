{
 "cells": [
  {
   "cell_type": "code",
   "execution_count": 1,
   "id": "7089a5b2",
   "metadata": {},
   "outputs": [],
   "source": [
    "import warnings\n",
    "warnings.filterwarnings('ignore')\n",
    "import numpy as np\n",
    "import pandas as pd\n",
    "import matplotlib.pyplot as plt\n",
    "from sklearn.decomposition import PCA\n",
    "import os\n",
    "%matplotlib inline"
   ]
  },
  {
   "cell_type": "code",
   "execution_count": 2,
   "id": "46b4284b",
   "metadata": {},
   "outputs": [],
   "source": [
    "os.chdir('C:\\Digital Engineering\\Gender Detection')"
   ]
  },
  {
   "cell_type": "code",
   "execution_count": 3,
   "id": "9a0e7d66",
   "metadata": {},
   "outputs": [
    {
     "data": {
      "text/plain": [
       "['arr_0', 'arr_1', 'arr_2']"
      ]
     },
     "execution_count": 3,
     "metadata": {},
     "output_type": "execute_result"
    }
   ],
   "source": [
    "data = np.load('./data_pca_50_y_mean.pickle.npz')\n",
    "data.files"
   ]
  },
  {
   "cell_type": "code",
   "execution_count": 4,
   "id": "7492dc7a",
   "metadata": {},
   "outputs": [],
   "source": [
    "X=data['arr_0']\n",
    "y=data['arr_1']\n",
    "mean=data['arr_2']"
   ]
  },
  {
   "cell_type": "markdown",
   "id": "67309f80",
   "metadata": {},
   "source": [
    "# Train Test Split"
   ]
  },
  {
   "cell_type": "code",
   "execution_count": 5,
   "id": "8d59d054",
   "metadata": {},
   "outputs": [],
   "source": [
    "from sklearn.model_selection import train_test_split"
   ]
  },
  {
   "cell_type": "code",
   "execution_count": 6,
   "id": "d90b2ae9",
   "metadata": {},
   "outputs": [
    {
     "data": {
      "text/plain": [
       "((4372, 50), (1093, 50), (4372,), (1093,))"
      ]
     },
     "execution_count": 6,
     "metadata": {},
     "output_type": "execute_result"
    }
   ],
   "source": [
    "X_train,X_test,y_train,y_test = train_test_split(X,y,test_size=0.2,stratify=y)\n",
    "X_train.shape,X_test.shape,y_train.shape,y_test.shape"
   ]
  },
  {
   "cell_type": "markdown",
   "id": "aba996ad",
   "metadata": {},
   "source": [
    "# Training the model"
   ]
  },
  {
   "cell_type": "code",
   "execution_count": 7,
   "id": "5c3dd687",
   "metadata": {},
   "outputs": [],
   "source": [
    "from sklearn.svm import SVC\n",
    "model = SVC(C=1.0, kernel='rbf', gamma=0.01, probability=True)"
   ]
  },
  {
   "cell_type": "code",
   "execution_count": 8,
   "id": "d30aeef2",
   "metadata": {},
   "outputs": [
    {
     "name": "stdout",
     "output_type": "stream",
     "text": [
      "model trained successfully\n"
     ]
    }
   ],
   "source": [
    "model.fit(X_train, y_train)\n",
    "print('model trained successfully')"
   ]
  },
  {
   "cell_type": "code",
   "execution_count": 9,
   "id": "f2eeec0d",
   "metadata": {},
   "outputs": [
    {
     "data": {
      "text/plain": [
       "0.854071363220494"
      ]
     },
     "execution_count": 9,
     "metadata": {},
     "output_type": "execute_result"
    }
   ],
   "source": [
    "# score\n",
    "model.score(X_train,y_train)"
   ]
  },
  {
   "cell_type": "code",
   "execution_count": 10,
   "id": "c8aad3bb",
   "metadata": {},
   "outputs": [
    {
     "data": {
      "text/plain": [
       "0.8161024702653248"
      ]
     },
     "execution_count": 10,
     "metadata": {},
     "output_type": "execute_result"
    }
   ],
   "source": [
    "# score\n",
    "model.score(X_test,y_test)"
   ]
  },
  {
   "cell_type": "markdown",
   "id": "739d9fbd",
   "metadata": {},
   "source": [
    "# Model Evaluation"
   ]
  },
  {
   "cell_type": "code",
   "execution_count": 11,
   "id": "dd29caaf",
   "metadata": {},
   "outputs": [],
   "source": [
    "from sklearn import metrics"
   ]
  },
  {
   "cell_type": "code",
   "execution_count": 12,
   "id": "07b83416",
   "metadata": {},
   "outputs": [],
   "source": [
    "y_pred= model.predict(X_test)\n",
    "y_prob= model.predict_proba(X_test)"
   ]
  },
  {
   "cell_type": "code",
   "execution_count": 13,
   "id": "a3d7d09c",
   "metadata": {},
   "outputs": [
    {
     "data": {
      "text/plain": [
       "<matplotlib.image.AxesImage at 0x25004c24b48>"
      ]
     },
     "execution_count": 13,
     "metadata": {},
     "output_type": "execute_result"
    },
    {
     "data": {
      "image/png": "[encoded data removed]",
      "text/plain": [
       "<Figure size 432x288 with 1 Axes>"
      ]
     },
     "metadata": {
      "needs_background": "light"
     },
     "output_type": "display_data"
    }
   ],
   "source": [
    "cm=metrics.confusion_matrix(y_test,y_pred)\n",
    "cm=np.concatenate((cm,cm.sum(axis=0).reshape(1,-1)),axis=0)\n",
    "cm=np.concatenate((cm,cm.sum(axis=1).reshape(-1,1)),axis=1)\n",
    "#plt.imshow(cm)\n",
    "\n",
    "for i in range (3):\n",
    "    for j in range(3):\n",
    "        plt.text(i,j,'%d'%cm[i,j])\n",
    "\n",
    "plt.xticks([0,1])\n",
    "plt.yticks([0,1])\n",
    "plt.xlabel('Predicted Value')\n",
    "plt.ylabel('True Value')\n",
    "plt.imshow(cm)"
   ]
  },
  {
   "cell_type": "code",
   "execution_count": 14,
   "id": "205f4114",
   "metadata": {},
   "outputs": [
    {
     "data": {
      "text/html": [
       "<div>\n",
       "<style scoped>\n",
       "    .dataframe tbody tr th:only-of-type {\n",
       "        vertical-align: middle;\n",
       "    }\n",
       "\n",
       "    .dataframe tbody tr th {\n",
       "        vertical-align: top;\n",
       "    }\n",
       "\n",
       "    .dataframe thead th {\n",
       "        text-align: right;\n",
       "    }\n",
       "</style>\n",
       "<table border=\"1\" class=\"dataframe\">\n",
       "  <thead>\n",
       "    <tr style=\"text-align: right;\">\n",
       "      <th></th>\n",
       "      <th>precision</th>\n",
       "      <th>recall</th>\n",
       "      <th>f1-score</th>\n",
       "      <th>support</th>\n",
       "    </tr>\n",
       "  </thead>\n",
       "  <tbody>\n",
       "    <tr>\n",
       "      <th>male</th>\n",
       "      <td>0.787081</td>\n",
       "      <td>0.746032</td>\n",
       "      <td>0.766007</td>\n",
       "      <td>441.000000</td>\n",
       "    </tr>\n",
       "    <tr>\n",
       "      <th>female</th>\n",
       "      <td>0.834074</td>\n",
       "      <td>0.863497</td>\n",
       "      <td>0.848531</td>\n",
       "      <td>652.000000</td>\n",
       "    </tr>\n",
       "    <tr>\n",
       "      <th>accuracy</th>\n",
       "      <td>0.816102</td>\n",
       "      <td>0.816102</td>\n",
       "      <td>0.816102</td>\n",
       "      <td>0.816102</td>\n",
       "    </tr>\n",
       "    <tr>\n",
       "      <th>macro avg</th>\n",
       "      <td>0.810578</td>\n",
       "      <td>0.804764</td>\n",
       "      <td>0.807269</td>\n",
       "      <td>1093.000000</td>\n",
       "    </tr>\n",
       "    <tr>\n",
       "      <th>weighted avg</th>\n",
       "      <td>0.815114</td>\n",
       "      <td>0.816102</td>\n",
       "      <td>0.815234</td>\n",
       "      <td>1093.000000</td>\n",
       "    </tr>\n",
       "  </tbody>\n",
       "</table>\n",
       "</div>"
      ],
      "text/plain": [
       "              precision    recall  f1-score      support\n",
       "male           0.787081  0.746032  0.766007   441.000000\n",
       "female         0.834074  0.863497  0.848531   652.000000\n",
       "accuracy       0.816102  0.816102  0.816102     0.816102\n",
       "macro avg      0.810578  0.804764  0.807269  1093.000000\n",
       "weighted avg   0.815114  0.816102  0.815234  1093.000000"
      ]
     },
     "execution_count": 14,
     "metadata": {},
     "output_type": "execute_result"
    }
   ],
   "source": [
    "# classification Report\n",
    "cr = metrics.classification_report(y_test,y_pred,target_names=['male','female'],output_dict=True)\n",
    "pd.DataFrame(cr).T"
   ]
  },
  {
   "cell_type": "code",
   "execution_count": 15,
   "id": "b888d8d0",
   "metadata": {},
   "outputs": [
    {
     "data": {
      "text/plain": [
       "0.6147163067706516"
      ]
     },
     "execution_count": 15,
     "metadata": {},
     "output_type": "execute_result"
    }
   ],
   "source": [
    "# kappa \n",
    "metrics.cohen_kappa_score(y_test,y_pred)"
   ]
  },
  {
   "cell_type": "markdown",
   "id": "78e050f3",
   "metadata": {},
   "source": [
    "## ROC and AUC"
   ]
  },
  {
   "cell_type": "code",
   "execution_count": 16,
   "id": "46333d58",
   "metadata": {},
   "outputs": [
    {
     "data": {
      "image/png": "[encoded data removed]",
      "text/plain": [
       "<Figure size 720x432 with 1 Axes>"
      ]
     },
     "metadata": {
      "needs_background": "light"
     },
     "output_type": "display_data"
    }
   ],
   "source": [
    "# roc for female\n",
    "fpr, tpr, thresh= metrics.roc_curve(y_test,y_prob[:,1])\n",
    "auc_s= metrics.auc(fpr,tpr)\n",
    "plt.figure(figsize=(10,6))\n",
    "\n",
    "plt.plot(fpr,tpr,'-.')\n",
    "plt.plot([0,1],[0,1],'b--')\n",
    "\n",
    "plt.legend(['AUC Score =%0.2f'%auc_s])\n",
    "\n",
    "for i in range (0,len(thresh),20):\n",
    "    plt.plot(fpr[i],tpr[i],'^')\n",
    "    plt.text(fpr[i],tpr[i],\"%0.2f\"%thresh[i])\n",
    "    \n",
    "plt.xlabel('False Positive Rate')\n",
    "plt.ylabel('True Positive Rate')\n",
    "plt.title('Receiver Operating Characteristics')\n",
    "plt.show()"
   ]
  },
  {
   "cell_type": "code",
   "execution_count": 17,
   "id": "59626392",
   "metadata": {},
   "outputs": [],
   "source": [
    "## Hyper parameter tuning"
   ]
  },
  {
   "cell_type": "code",
   "execution_count": 18,
   "id": "058c5658",
   "metadata": {},
   "outputs": [],
   "source": [
    "model_tune=SVC()"
   ]
  },
  {
   "cell_type": "code",
   "execution_count": 19,
   "id": "31452482",
   "metadata": {},
   "outputs": [],
   "source": [
    "from sklearn.model_selection import GridSearchCV"
   ]
  },
  {
   "cell_type": "code",
   "execution_count": 20,
   "id": "27e2ebd2",
   "metadata": {},
   "outputs": [],
   "source": [
    "param_grid= {'C':[1,10,20,30,40,50,100],\n",
    "            'kernel':['rbf','poly'],\n",
    "            'gamma':[0.1,0.05,0.01,0.001,0.002,0.005],\n",
    "            'coef0':[0,1]\n",
    "            }"
   ]
  },
  {
   "cell_type": "code",
   "execution_count": 21,
   "id": "efe60223",
   "metadata": {},
   "outputs": [],
   "source": [
    "model_grid=GridSearchCV(model_tune,param_grid,scoring='accuracy',cv=5,verbose=1)"
   ]
  },
  {
   "cell_type": "code",
   "execution_count": 22,
   "id": "4bb6334c",
   "metadata": {},
   "outputs": [
    {
     "name": "stdout",
     "output_type": "stream",
     "text": [
      "Fitting 5 folds for each of 168 candidates, totalling 840 fits\n"
     ]
    },
    {
     "data": {
      "text/plain": [
       "GridSearchCV(cv=5, estimator=SVC(),\n",
       "             param_grid={'C': [1, 10, 20, 30, 40, 50, 100], 'coef0': [0, 1],\n",
       "                         'gamma': [0.1, 0.05, 0.01, 0.001, 0.002, 0.005],\n",
       "                         'kernel': ['rbf', 'poly']},\n",
       "             scoring='accuracy', verbose=1)"
      ]
     },
     "execution_count": 22,
     "metadata": {},
     "output_type": "execute_result"
    }
   ],
   "source": [
    "model_grid.fit(X,y)"
   ]
  },
  {
   "cell_type": "code",
   "execution_count": 23,
   "id": "c90600b8",
   "metadata": {},
   "outputs": [
    {
     "data": {
      "text/plain": [
       "{'C': 100, 'coef0': 0, 'gamma': 0.001, 'kernel': 'rbf'}"
      ]
     },
     "execution_count": 23,
     "metadata": {},
     "output_type": "execute_result"
    }
   ],
   "source": [
    "model_grid.best_params_"
   ]
  },
  {
   "cell_type": "code",
   "execution_count": 24,
   "id": "f2369084",
   "metadata": {},
   "outputs": [
    {
     "data": {
      "text/plain": [
       "0.7868252516010978"
      ]
     },
     "execution_count": 24,
     "metadata": {},
     "output_type": "execute_result"
    }
   ],
   "source": [
    "model_grid.best_score_"
   ]
  },
  {
   "cell_type": "code",
   "execution_count": 25,
   "id": "743fc3e4",
   "metadata": {},
   "outputs": [],
   "source": [
    "# With best parameter build ML model\n",
    "model_best= SVC (C=100, kernel='rbf',gamma=0.001,coef0=0,probability=True)"
   ]
  },
  {
   "cell_type": "code",
   "execution_count": 26,
   "id": "7d99efc7",
   "metadata": {},
   "outputs": [
    {
     "data": {
      "text/plain": [
       "SVC(C=100, coef0=0, gamma=0.001, probability=True)"
      ]
     },
     "execution_count": 26,
     "metadata": {},
     "output_type": "execute_result"
    }
   ],
   "source": [
    "model_best.fit(X_train,y_train)"
   ]
  },
  {
   "cell_type": "code",
   "execution_count": null,
   "id": "7a1b6217",
   "metadata": {},
   "outputs": [],
   "source": [
    "model_best.score(X_train,y_train)"
   ]
  },
  {
   "cell_type": "code",
   "execution_count": 27,
   "id": "da2b464c",
   "metadata": {},
   "outputs": [
    {
     "data": {
      "text/plain": [
       "0.8051235132662397"
      ]
     },
     "execution_count": 27,
     "metadata": {},
     "output_type": "execute_result"
    }
   ],
   "source": [
    "model_best.score(X_test,y_test)"
   ]
  },
  {
   "cell_type": "markdown",
   "id": "63f99c00",
   "metadata": {},
   "source": [
    "# Model Evaluation"
   ]
  },
  {
   "cell_type": "code",
   "execution_count": 28,
   "id": "3fbdfcb8",
   "metadata": {},
   "outputs": [],
   "source": [
    "y_pred= model_best.predict(X_test)\n",
    "y_prob= model_best.predict_proba(X_test)"
   ]
  },
  {
   "cell_type": "code",
   "execution_count": 29,
   "id": "322154b6",
   "metadata": {},
   "outputs": [
    {
     "data": {
      "text/plain": [
       "<matplotlib.image.AxesImage at 0x2580afe56c8>"
      ]
     },
     "execution_count": 29,
     "metadata": {},
     "output_type": "execute_result"
    },
    {
     "data": {
      "image/png": "[encoded data removed]",
      "text/plain": [
       "<Figure size 432x288 with 1 Axes>"
      ]
     },
     "metadata": {
      "needs_background": "light"
     },
     "output_type": "display_data"
    }
   ],
   "source": [
    "cm=metrics.confusion_matrix(y_test,y_pred)\n",
    "cm=np.concatenate((cm,cm.sum(axis=0).reshape(1,-1)),axis=0)\n",
    "cm=np.concatenate((cm,cm.sum(axis=1).reshape(-1,1)),axis=1)\n",
    "#plt.imshow(cm)\n",
    "\n",
    "for i in range (3):\n",
    "    for j in range(3):\n",
    "        plt.text(i,j,'%d'%cm[i,j])\n",
    "\n",
    "plt.xticks([0,1])\n",
    "plt.yticks([0,1])\n",
    "plt.xlabel('Predicted Value')\n",
    "plt.ylabel('True Value')\n",
    "plt.imshow(cm)"
   ]
  },
  {
   "cell_type": "code",
   "execution_count": 30,
   "id": "018ef595",
   "metadata": {},
   "outputs": [
    {
     "data": {
      "text/html": [
       "<div>\n",
       "<style scoped>\n",
       "    .dataframe tbody tr th:only-of-type {\n",
       "        vertical-align: middle;\n",
       "    }\n",
       "\n",
       "    .dataframe tbody tr th {\n",
       "        vertical-align: top;\n",
       "    }\n",
       "\n",
       "    .dataframe thead th {\n",
       "        text-align: right;\n",
       "    }\n",
       "</style>\n",
       "<table border=\"1\" class=\"dataframe\">\n",
       "  <thead>\n",
       "    <tr style=\"text-align: right;\">\n",
       "      <th></th>\n",
       "      <th>precision</th>\n",
       "      <th>recall</th>\n",
       "      <th>f1-score</th>\n",
       "      <th>support</th>\n",
       "    </tr>\n",
       "  </thead>\n",
       "  <tbody>\n",
       "    <tr>\n",
       "      <th>male</th>\n",
       "      <td>0.774038</td>\n",
       "      <td>0.730159</td>\n",
       "      <td>0.751459</td>\n",
       "      <td>441.000000</td>\n",
       "    </tr>\n",
       "    <tr>\n",
       "      <th>female</th>\n",
       "      <td>0.824225</td>\n",
       "      <td>0.855828</td>\n",
       "      <td>0.839729</td>\n",
       "      <td>652.000000</td>\n",
       "    </tr>\n",
       "    <tr>\n",
       "      <th>accuracy</th>\n",
       "      <td>0.805124</td>\n",
       "      <td>0.805124</td>\n",
       "      <td>0.805124</td>\n",
       "      <td>0.805124</td>\n",
       "    </tr>\n",
       "    <tr>\n",
       "      <th>macro avg</th>\n",
       "      <td>0.799131</td>\n",
       "      <td>0.792993</td>\n",
       "      <td>0.795594</td>\n",
       "      <td>1093.000000</td>\n",
       "    </tr>\n",
       "    <tr>\n",
       "      <th>weighted avg</th>\n",
       "      <td>0.803976</td>\n",
       "      <td>0.805124</td>\n",
       "      <td>0.804114</td>\n",
       "      <td>1093.000000</td>\n",
       "    </tr>\n",
       "  </tbody>\n",
       "</table>\n",
       "</div>"
      ],
      "text/plain": [
       "              precision    recall  f1-score      support\n",
       "male           0.774038  0.730159  0.751459   441.000000\n",
       "female         0.824225  0.855828  0.839729   652.000000\n",
       "accuracy       0.805124  0.805124  0.805124     0.805124\n",
       "macro avg      0.799131  0.792993  0.795594  1093.000000\n",
       "weighted avg   0.803976  0.805124  0.804114  1093.000000"
      ]
     },
     "execution_count": 30,
     "metadata": {},
     "output_type": "execute_result"
    }
   ],
   "source": [
    "# classification Report\n",
    "cr = metrics.classification_report(y_test,y_pred,target_names=['male','female'],output_dict=True)\n",
    "pd.DataFrame(cr).T"
   ]
  },
  {
   "cell_type": "code",
   "execution_count": 31,
   "id": "1814c6de",
   "metadata": {},
   "outputs": [
    {
     "data": {
      "text/plain": [
       "0.5914119086188045"
      ]
     },
     "execution_count": 31,
     "metadata": {},
     "output_type": "execute_result"
    }
   ],
   "source": [
    "# kappa \n",
    "metrics.cohen_kappa_score(y_test,y_pred)"
   ]
  },
  {
   "cell_type": "markdown",
   "id": "27e6d619",
   "metadata": {},
   "source": [
    "## ROC and AUC"
   ]
  },
  {
   "cell_type": "code",
   "execution_count": 32,
   "id": "41805773",
   "metadata": {},
   "outputs": [
    {
     "data": {
      "image/png": "[encoded data removed]",
      "text/plain": [
       "<Figure size 720x432 with 1 Axes>"
      ]
     },
     "metadata": {
      "needs_background": "light"
     },
     "output_type": "display_data"
    }
   ],
   "source": [
    "# roc for female\n",
    "fpr, tpr, thresh= metrics.roc_curve(y_test,y_prob[:,1])\n",
    "auc_s= metrics.auc(fpr,tpr)\n",
    "plt.figure(figsize=(10,6))\n",
    "\n",
    "plt.plot(fpr,tpr,'-.')\n",
    "plt.plot([0,1],[0,1],'b--')\n",
    "\n",
    "plt.legend(['AUC Score =%0.2f'%auc_s])\n",
    "\n",
    "for i in range (0,len(thresh),20):\n",
    "    plt.plot(fpr[i],tpr[i],'^')\n",
    "    plt.text(fpr[i],tpr[i],\"%0.2f\"%thresh[i])\n",
    "    \n",
    "plt.xlabel('False Positive Rate')\n",
    "plt.ylabel('True Positive Rate')\n",
    "plt.title('Receiver Operating Characteristics')\n",
    "plt.show()"
   ]
  },
  {
   "cell_type": "code",
   "execution_count": 33,
   "id": "5a61e587",
   "metadata": {},
   "outputs": [],
   "source": [
    "# save our machine learning model\n",
    "import pickle"
   ]
  },
  {
   "cell_type": "code",
   "execution_count": 34,
   "id": "4e31a7c2",
   "metadata": {},
   "outputs": [],
   "source": [
    "pickle.dump(model_best,open('model_svm.pickle','wb'))"
   ]
  },
  {
   "cell_type": "code",
   "execution_count": 37,
   "id": "cd720ca3",
   "metadata": {},
   "outputs": [],
   "source": [
    "pickle.dump(mean,open('./model/mean_preprocess.pickle','wb'))"
   ]
  },
  {
   "cell_type": "code",
   "execution_count": null,
   "id": "2a4a95db",
   "metadata": {},
   "outputs": [],
   "source": []
  }
 ],
 "metadata": {
  "kernelspec": {
   "display_name": "Python 3 (ipykernel)",
   "language": "python",
   "name": "python3"
  },
  "language_info": {
   "codemirror_mode": {
    "name": "ipython",
    "version": 3
   },
   "file_extension": ".py",
   "mimetype": "text/x-python",
   "name": "python",
   "nbconvert_exporter": "python",
   "pygments_lexer": "ipython3",
   "version": "3.7.11"
  }
 },
 "nbformat": 4,
 "nbformat_minor": 5
}

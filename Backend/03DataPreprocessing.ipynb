{
 "cells": [
  {
   "cell_type": "code",
   "execution_count": 1,
   "id": "a2f585e1",
   "metadata": {},
   "outputs": [],
   "source": [
    "import numpy as np\n",
    "import cv2\n",
    "import matplotlib.pyplot as plt\n",
    "import pandas as pd\n",
    "from PIL import Image\n",
    "import os\n"
   ]
  },
  {
   "cell_type": "code",
   "execution_count": 2,
   "id": "828da97c",
   "metadata": {},
   "outputs": [],
   "source": [
    "os.chdir('C:\\Digital Engineering\\Gender Detection')"
   ]
  },
  {
   "cell_type": "code",
   "execution_count": 4,
   "id": "91db79d9",
   "metadata": {},
   "outputs": [
    {
     "name": "stdout",
     "output_type": "stream",
     "text": [
      " Volume in drive C is OS\n",
      " Volume Serial Number is F2E1-B412\n",
      "\n",
      " Directory of C:\\Digital Engineering\\Gender Detection\n",
      "\n",
      "12/10/2021  02:01 PM    <DIR>          .\n",
      "12/10/2021  02:01 PM    <DIR>          ..\n",
      "11/06/2021  01:59 PM    <DIR>          crop\n",
      "12/10/2021  02:01 PM        54,798,943 dataframe_images_100_100.pickle\n",
      "11/06/2021  02:10 PM            61,048 f_01.png\n",
      "11/06/2021  01:48 PM    <DIR>          female\n",
      "03/22/2020  05:42 AM           930,127 haarcascade_frontalface_default.xml\n",
      "11/06/2021  01:46 PM    <DIR>          male\n",
      "09/16/2021  01:16 PM           142,515 PROJECT PROPOSAL.pdf\n",
      "               4 File(s)     55,932,633 bytes\n",
      "               5 Dir(s)  47,088,734,208 bytes free\n"
     ]
    }
   ],
   "source": [
    "ls "
   ]
  },
  {
   "cell_type": "code",
   "execution_count": 5,
   "id": "fd6d7a87",
   "metadata": {},
   "outputs": [],
   "source": [
    "import pickle"
   ]
  },
  {
   "cell_type": "code",
   "execution_count": 6,
   "id": "f95cf294",
   "metadata": {},
   "outputs": [],
   "source": [
    "# import pickle data\n",
    "df=pickle.load(open('./dataframe_images_100_100.pickle','rb'))"
   ]
  },
  {
   "cell_type": "code",
   "execution_count": 25,
   "id": "7ab537a1",
   "metadata": {},
   "outputs": [
    {
     "data": {
      "text/html": [
       "<div>\n",
       "<style scoped>\n",
       "    .dataframe tbody tr th:only-of-type {\n",
       "        vertical-align: middle;\n",
       "    }\n",
       "\n",
       "    .dataframe tbody tr th {\n",
       "        vertical-align: top;\n",
       "    }\n",
       "\n",
       "    .dataframe thead th {\n",
       "        text-align: right;\n",
       "    }\n",
       "</style>\n",
       "<table border=\"1\" class=\"dataframe\">\n",
       "  <thead>\n",
       "    <tr style=\"text-align: right;\">\n",
       "      <th></th>\n",
       "      <th>gender</th>\n",
       "      <th>0</th>\n",
       "      <th>1</th>\n",
       "      <th>2</th>\n",
       "      <th>3</th>\n",
       "      <th>4</th>\n",
       "      <th>5</th>\n",
       "      <th>6</th>\n",
       "      <th>7</th>\n",
       "      <th>8</th>\n",
       "      <th>...</th>\n",
       "      <th>9990</th>\n",
       "      <th>9991</th>\n",
       "      <th>9992</th>\n",
       "      <th>9993</th>\n",
       "      <th>9994</th>\n",
       "      <th>9995</th>\n",
       "      <th>9996</th>\n",
       "      <th>9997</th>\n",
       "      <th>9998</th>\n",
       "      <th>9999</th>\n",
       "    </tr>\n",
       "  </thead>\n",
       "  <tbody>\n",
       "    <tr>\n",
       "      <th>0</th>\n",
       "      <td>female</td>\n",
       "      <td>188</td>\n",
       "      <td>180</td>\n",
       "      <td>184</td>\n",
       "      <td>188</td>\n",
       "      <td>173</td>\n",
       "      <td>179</td>\n",
       "      <td>192</td>\n",
       "      <td>178</td>\n",
       "      <td>216</td>\n",
       "      <td>...</td>\n",
       "      <td>109</td>\n",
       "      <td>111</td>\n",
       "      <td>115</td>\n",
       "      <td>116</td>\n",
       "      <td>122</td>\n",
       "      <td>116</td>\n",
       "      <td>119</td>\n",
       "      <td>120</td>\n",
       "      <td>117</td>\n",
       "      <td>111</td>\n",
       "    </tr>\n",
       "    <tr>\n",
       "      <th>1</th>\n",
       "      <td>female</td>\n",
       "      <td>32</td>\n",
       "      <td>24</td>\n",
       "      <td>32</td>\n",
       "      <td>27</td>\n",
       "      <td>29</td>\n",
       "      <td>29</td>\n",
       "      <td>29</td>\n",
       "      <td>32</td>\n",
       "      <td>36</td>\n",
       "      <td>...</td>\n",
       "      <td>58</td>\n",
       "      <td>47</td>\n",
       "      <td>27</td>\n",
       "      <td>33</td>\n",
       "      <td>22</td>\n",
       "      <td>28</td>\n",
       "      <td>22</td>\n",
       "      <td>36</td>\n",
       "      <td>62</td>\n",
       "      <td>17</td>\n",
       "    </tr>\n",
       "    <tr>\n",
       "      <th>2</th>\n",
       "      <td>female</td>\n",
       "      <td>22</td>\n",
       "      <td>30</td>\n",
       "      <td>39</td>\n",
       "      <td>36</td>\n",
       "      <td>30</td>\n",
       "      <td>61</td>\n",
       "      <td>11</td>\n",
       "      <td>17</td>\n",
       "      <td>10</td>\n",
       "      <td>...</td>\n",
       "      <td>156</td>\n",
       "      <td>171</td>\n",
       "      <td>177</td>\n",
       "      <td>186</td>\n",
       "      <td>176</td>\n",
       "      <td>185</td>\n",
       "      <td>186</td>\n",
       "      <td>190</td>\n",
       "      <td>177</td>\n",
       "      <td>177</td>\n",
       "    </tr>\n",
       "    <tr>\n",
       "      <th>3</th>\n",
       "      <td>female</td>\n",
       "      <td>35</td>\n",
       "      <td>35</td>\n",
       "      <td>35</td>\n",
       "      <td>35</td>\n",
       "      <td>35</td>\n",
       "      <td>35</td>\n",
       "      <td>35</td>\n",
       "      <td>35</td>\n",
       "      <td>35</td>\n",
       "      <td>...</td>\n",
       "      <td>75</td>\n",
       "      <td>82</td>\n",
       "      <td>90</td>\n",
       "      <td>92</td>\n",
       "      <td>86</td>\n",
       "      <td>70</td>\n",
       "      <td>89</td>\n",
       "      <td>84</td>\n",
       "      <td>84</td>\n",
       "      <td>74</td>\n",
       "    </tr>\n",
       "    <tr>\n",
       "      <th>4</th>\n",
       "      <td>female</td>\n",
       "      <td>86</td>\n",
       "      <td>86</td>\n",
       "      <td>71</td>\n",
       "      <td>54</td>\n",
       "      <td>45</td>\n",
       "      <td>49</td>\n",
       "      <td>33</td>\n",
       "      <td>20</td>\n",
       "      <td>18</td>\n",
       "      <td>...</td>\n",
       "      <td>35</td>\n",
       "      <td>34</td>\n",
       "      <td>32</td>\n",
       "      <td>32</td>\n",
       "      <td>30</td>\n",
       "      <td>32</td>\n",
       "      <td>34</td>\n",
       "      <td>34</td>\n",
       "      <td>33</td>\n",
       "      <td>30</td>\n",
       "    </tr>\n",
       "  </tbody>\n",
       "</table>\n",
       "<p>5 rows × 10001 columns</p>\n",
       "</div>"
      ],
      "text/plain": [
       "   gender    0    1    2    3    4    5    6    7    8  ...  9990  9991  9992  \\\n",
       "0  female  188  180  184  188  173  179  192  178  216  ...   109   111   115   \n",
       "1  female   32   24   32   27   29   29   29   32   36  ...    58    47    27   \n",
       "2  female   22   30   39   36   30   61   11   17   10  ...   156   171   177   \n",
       "3  female   35   35   35   35   35   35   35   35   35  ...    75    82    90   \n",
       "4  female   86   86   71   54   45   49   33   20   18  ...    35    34    32   \n",
       "\n",
       "   9993  9994  9995  9996  9997  9998  9999  \n",
       "0   116   122   116   119   120   117   111  \n",
       "1    33    22    28    22    36    62    17  \n",
       "2   186   176   185   186   190   177   177  \n",
       "3    92    86    70    89    84    84    74  \n",
       "4    32    30    32    34    34    33    30  \n",
       "\n",
       "[5 rows x 10001 columns]"
      ]
     },
     "execution_count": 25,
     "metadata": {},
     "output_type": "execute_result"
    }
   ],
   "source": [
    "df.head()"
   ]
  },
  {
   "cell_type": "code",
   "execution_count": 7,
   "id": "2af04982",
   "metadata": {},
   "outputs": [
    {
     "name": "stdout",
     "output_type": "stream",
     "text": [
      "<class 'pandas.core.frame.DataFrame'>\n",
      "Int64Index: 5465 entries, 0 to 6057\n",
      "Columns: 10001 entries, gender to 9999\n",
      "dtypes: object(1), uint8(10000)\n",
      "memory usage: 52.2+ MB\n"
     ]
    }
   ],
   "source": [
    "df.info()"
   ]
  },
  {
   "cell_type": "code",
   "execution_count": 8,
   "id": "f8d26bb6",
   "metadata": {},
   "outputs": [
    {
     "data": {
      "text/plain": [
       "gender    0\n",
       "0         0\n",
       "1         0\n",
       "2         0\n",
       "3         0\n",
       "         ..\n",
       "9995      0\n",
       "9996      0\n",
       "9997      0\n",
       "9998      0\n",
       "9999      0\n",
       "Length: 10001, dtype: int64"
      ]
     },
     "execution_count": 8,
     "metadata": {},
     "output_type": "execute_result"
    }
   ],
   "source": [
    "# checking for missing value\n",
    "df.isnull().sum()"
   ]
  },
  {
   "cell_type": "markdown",
   "id": "e494c07e",
   "metadata": {},
   "source": [
    "# Data Pre-processing\n",
    "1. Remove missing value\n",
    "2. Min Max Scaling"
   ]
  },
  {
   "cell_type": "code",
   "execution_count": 14,
   "id": "27af2c53",
   "metadata": {},
   "outputs": [
    {
     "data": {
      "text/plain": [
       "gender    0\n",
       "0         0\n",
       "1         0\n",
       "2         0\n",
       "3         0\n",
       "         ..\n",
       "9995      0\n",
       "9996      0\n",
       "9997      0\n",
       "9998      0\n",
       "9999      0\n",
       "Length: 10001, dtype: int64"
      ]
     },
     "execution_count": 14,
     "metadata": {},
     "output_type": "execute_result"
    }
   ],
   "source": [
    "df.isnull().sum()"
   ]
  },
  {
   "cell_type": "markdown",
   "id": "68efe95a",
   "metadata": {},
   "source": [
    " ##### No missing value found"
   ]
  },
  {
   "cell_type": "code",
   "execution_count": 37,
   "id": "fef48db2",
   "metadata": {},
   "outputs": [],
   "source": [
    "#split into two parts\n",
    "X=df.iloc[:,1:].values\n",
    "y=df.iloc[:,0].values"
   ]
  },
  {
   "cell_type": "code",
   "execution_count": 38,
   "id": "5a6ea6ef",
   "metadata": {},
   "outputs": [
    {
     "data": {
      "text/plain": [
       "array([ 81,  80,  83, ..., 151, 155, 148], dtype=uint8)"
      ]
     },
     "execution_count": 38,
     "metadata": {},
     "output_type": "execute_result"
    }
   ],
   "source": [
    "X[5]"
   ]
  },
  {
   "cell_type": "code",
   "execution_count": 39,
   "id": "fcf83ce3",
   "metadata": {},
   "outputs": [
    {
     "data": {
      "text/plain": [
       "(5465, 10000)"
      ]
     },
     "execution_count": 39,
     "metadata": {},
     "output_type": "execute_result"
    }
   ],
   "source": [
    "X.shape"
   ]
  },
  {
   "cell_type": "code",
   "execution_count": 40,
   "id": "28bba700",
   "metadata": {},
   "outputs": [
    {
     "data": {
      "text/plain": [
       "(5465,)"
      ]
     },
     "execution_count": 40,
     "metadata": {},
     "output_type": "execute_result"
    }
   ],
   "source": [
    "y.shape"
   ]
  },
  {
   "cell_type": "markdown",
   "id": "db5e52dc",
   "metadata": {},
   "source": [
    "# Min Max Scaling\n",
    "## Xnorm = $ \\frac{x-minValue}{maxValue-minValue}$"
   ]
  },
  {
   "cell_type": "code",
   "execution_count": 41,
   "id": "23d45c4d",
   "metadata": {},
   "outputs": [
    {
     "data": {
      "text/plain": [
       "(0, 255)"
      ]
     },
     "execution_count": 41,
     "metadata": {},
     "output_type": "execute_result"
    }
   ],
   "source": [
    "X.min(),X.max()"
   ]
  },
  {
   "cell_type": "code",
   "execution_count": 42,
   "id": "c982ebf1",
   "metadata": {},
   "outputs": [],
   "source": [
    "Xnorm = X/X.max()"
   ]
  },
  {
   "cell_type": "code",
   "execution_count": 43,
   "id": "f916e93a",
   "metadata": {},
   "outputs": [
    {
     "data": {
      "text/plain": [
       "array([[0.7372549 , 0.70588235, 0.72156863, ..., 0.47058824, 0.45882353,\n",
       "        0.43529412],\n",
       "       [0.1254902 , 0.09411765, 0.1254902 , ..., 0.14117647, 0.24313725,\n",
       "        0.06666667],\n",
       "       [0.08627451, 0.11764706, 0.15294118, ..., 0.74509804, 0.69411765,\n",
       "        0.69411765],\n",
       "       ...,\n",
       "       [0.09803922, 0.09803922, 0.10196078, ..., 0.11764706, 0.12156863,\n",
       "        0.13333333],\n",
       "       [0.08235294, 0.10588235, 0.12156863, ..., 0.07843137, 0.08627451,\n",
       "        0.09803922],\n",
       "       [0.01568627, 0.01176471, 0.00784314, ..., 0.35294118, 0.35294118,\n",
       "        0.36470588]])"
      ]
     },
     "execution_count": 43,
     "metadata": {},
     "output_type": "execute_result"
    }
   ],
   "source": [
    "Xnorm"
   ]
  },
  {
   "cell_type": "code",
   "execution_count": 44,
   "id": "0cbeb338",
   "metadata": {},
   "outputs": [
    {
     "data": {
      "text/plain": [
       "(5465, 10000)"
      ]
     },
     "execution_count": 44,
     "metadata": {},
     "output_type": "execute_result"
    }
   ],
   "source": [
    "Xnorm.shape"
   ]
  },
  {
   "cell_type": "code",
   "execution_count": 45,
   "id": "5fac2dca",
   "metadata": {},
   "outputs": [
    {
     "data": {
      "text/plain": [
       "array(['female', 'female', 'female', ..., 'male', 'male', 'male'],\n",
       "      dtype=object)"
      ]
     },
     "execution_count": 45,
     "metadata": {},
     "output_type": "execute_result"
    }
   ],
   "source": [
    "y"
   ]
  },
  {
   "cell_type": "code",
   "execution_count": 46,
   "id": "23bc0c5f",
   "metadata": {},
   "outputs": [],
   "source": [
    "#Doing encoding for target value not normalization\n",
    "# female= 1 male = 0\n",
    "y_norm= np.where(y=='female',1,0)"
   ]
  },
  {
   "cell_type": "code",
   "execution_count": 47,
   "id": "9fdaa54c",
   "metadata": {},
   "outputs": [],
   "source": [
    "# saving x and y\n",
    "np.savez('./data_10000_norm.npz',Xnorm,y_norm)"
   ]
  },
  {
   "cell_type": "code",
   "execution_count": null,
   "id": "65996200",
   "metadata": {},
   "outputs": [],
   "source": []
  }
 ],
 "metadata": {
  "kernelspec": {
   "display_name": "Python 3 (ipykernel)",
   "language": "python",
   "name": "python3"
  },
  "language_info": {
   "codemirror_mode": {
    "name": "ipython",
    "version": 3
   },
   "file_extension": ".py",
   "mimetype": "text/x-python",
   "name": "python",
   "nbconvert_exporter": "python",
   "pygments_lexer": "ipython3",
   "version": "3.7.11"
  }
 },
 "nbformat": 4,
 "nbformat_minor": 5
}
